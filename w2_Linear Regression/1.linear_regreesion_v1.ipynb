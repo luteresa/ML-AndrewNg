{
 "cells": [
  {
   "cell_type": "markdown",
   "metadata": {},
   "source": [
    "# linear regreesion（线性回归）\n",
    "\n",
    "注意：python版本为3.6，\n",
    "\n",
    "安装TensorFlow的方法：\n",
    "\n",
    "conda create -n tf python=3.6\n",
    "\n",
    "source  activate  tf\n",
    "\n",
    "conda install -n tf -c https://conda.anaconda.org/jjhelmus tensorflow "
   ]
  },
  {
   "cell_type": "code",
   "execution_count": 3,
   "metadata": {},
   "outputs": [],
   "source": [
    "import pandas as pd\n",
    "import seaborn as sns\n",
    "sns.set(context=\"notebook\", style=\"whitegrid\", palette=\"dark\")\n",
    "import matplotlib.pyplot as plt\n",
    "import tensorflow as tf\n",
    "import numpy as np"
   ]
  },
  {
   "cell_type": "code",
   "execution_count": 4,
   "metadata": {},
   "outputs": [],
   "source": [
    "df = pd.read_csv('ex1data1.txt', names=['population', 'profit'])#读取数据并赋予列名"
   ]
  },
  {
   "cell_type": "code",
   "execution_count": 5,
   "metadata": {},
   "outputs": [
    {
     "data": {
      "text/html": [
       "<div>\n",
       "<style scoped>\n",
       "    .dataframe tbody tr th:only-of-type {\n",
       "        vertical-align: middle;\n",
       "    }\n",
       "\n",
       "    .dataframe tbody tr th {\n",
       "        vertical-align: top;\n",
       "    }\n",
       "\n",
       "    .dataframe thead th {\n",
       "        text-align: right;\n",
       "    }\n",
       "</style>\n",
       "<table border=\"1\" class=\"dataframe\">\n",
       "  <thead>\n",
       "    <tr style=\"text-align: right;\">\n",
       "      <th></th>\n",
       "      <th>population</th>\n",
       "      <th>profit</th>\n",
       "    </tr>\n",
       "  </thead>\n",
       "  <tbody>\n",
       "    <tr>\n",
       "      <th>0</th>\n",
       "      <td>6.1101</td>\n",
       "      <td>17.5920</td>\n",
       "    </tr>\n",
       "    <tr>\n",
       "      <th>1</th>\n",
       "      <td>5.5277</td>\n",
       "      <td>9.1302</td>\n",
       "    </tr>\n",
       "    <tr>\n",
       "      <th>2</th>\n",
       "      <td>8.5186</td>\n",
       "      <td>13.6620</td>\n",
       "    </tr>\n",
       "    <tr>\n",
       "      <th>3</th>\n",
       "      <td>7.0032</td>\n",
       "      <td>11.8540</td>\n",
       "    </tr>\n",
       "    <tr>\n",
       "      <th>4</th>\n",
       "      <td>5.8598</td>\n",
       "      <td>6.8233</td>\n",
       "    </tr>\n",
       "  </tbody>\n",
       "</table>\n",
       "</div>"
      ],
      "text/plain": [
       "   population   profit\n",
       "0      6.1101  17.5920\n",
       "1      5.5277   9.1302\n",
       "2      8.5186  13.6620\n",
       "3      7.0032  11.8540\n",
       "4      5.8598   6.8233"
      ]
     },
     "execution_count": 5,
     "metadata": {},
     "output_type": "execute_result"
    }
   ],
   "source": [
    "df.head()#看前五行"
   ]
  },
  {
   "cell_type": "code",
   "execution_count": 6,
   "metadata": {},
   "outputs": [
    {
     "name": "stdout",
     "output_type": "stream",
     "text": [
      "<class 'pandas.core.frame.DataFrame'>\n",
      "RangeIndex: 97 entries, 0 to 96\n",
      "Data columns (total 2 columns):\n",
      "population    97 non-null float64\n",
      "profit        97 non-null float64\n",
      "dtypes: float64(2)\n",
      "memory usage: 1.6 KB\n"
     ]
    }
   ],
   "source": [
    "df.info()"
   ]
  },
  {
   "cell_type": "markdown",
   "metadata": {},
   "source": [
    "***\n",
    "# 看下原始数据"
   ]
  },
  {
   "cell_type": "code",
   "execution_count": 7,
   "metadata": {},
   "outputs": [
    {
     "name": "stderr",
     "output_type": "stream",
     "text": [
      "/home/leon/anaconda3/envs/tf_gpu/lib/python3.7/site-packages/seaborn/regression.py:546: UserWarning: The `size` paramter has been renamed to `height`; please update your code.\n",
      "  warnings.warn(msg, UserWarning)\n"
     ]
    },
    {
     "data": {
      "image/png": "[encoded data removed]",
      "text/plain": [
       "<Figure size 432x432 with 1 Axes>"
      ]
     },
     "metadata": {
      "needs_background": "light"
     },
     "output_type": "display_data"
    }
   ],
   "source": [
    "sns.lmplot('population', 'profit', df, size=6, fit_reg=True)\n",
    "plt.show()"
   ]
  },
  {
   "cell_type": "code",
   "execution_count": 8,
   "metadata": {},
   "outputs": [],
   "source": [
    "def get_X(df):#读取特征\n",
    "#     \"\"\"\n",
    "#     use concat to add intersect feature to avoid side effect\n",
    "#     not efficient for big dataset though\n",
    "#     \"\"\"\n",
    "    ones = pd.DataFrame({'ones': np.ones(len(df))})#ones是m行1列的dataframe\n",
    "    data = pd.concat([ones, df], axis=1)  # 合并数据，根据列合并\n",
    "    return data.iloc[:, :-1].as_matrix()  # 这个操作返回 ndarray,不是矩阵\n",
    "\n",
    "\n",
    "def get_y(df):#读取标签\n",
    "#     '''assume the last column is the target'''\n",
    "    return np.array(df.iloc[:, -1])#df.iloc[:, -1]是指df的最后一列\n",
    "\n",
    "\n",
    "def normalize_feature(df):\n",
    "#     \"\"\"Applies function along input axis(default 0) of DataFrame.\"\"\"\n",
    "    return df.apply(lambda column: (column - column.mean()) / column.std())#特征缩放"
   ]
  },
  {
   "cell_type": "markdown",
   "metadata": {},
   "source": [
    "多变量的假设 h 表示为：\\\\[{{h}_{\\theta }}\\left( x \\right)={{\\theta }_{0}}+{{\\theta }_{1}}{{x}_{1}}+{{\\theta }_{2}}{{x}_{2}}+...+{{\\theta }_{n}}{{x}_{n}}\\\\] \n",
    "这个公式中有n+1个参数和n个变量，为了使得公式能够简化一些，引入${{x}_{0}}=1$，则公式转化为：  \n",
    "此时模型中的参数是一个n+1维的向量，任何一个训练实例也都是n+1维的向量，特征矩阵X的维度是 m*(n+1)。 因此公式可以简化为：${{h}_{\\theta }}\\left( x \\right)={{\\theta }^{T}}X$，其中上标T代表矩阵转置。\n"
   ]
  },
  {
   "cell_type": "code",
   "execution_count": 9,
   "metadata": {},
   "outputs": [],
   "source": [
    "import tensorflow as tf"
   ]
  },
  {
   "cell_type": "code",
   "execution_count": 10,
   "metadata": {},
   "outputs": [],
   "source": [
    "def linear_regression(X_data, y_data, alpha, epoch, optimizer=tf.train.GradientDescentOptimizer):# 这个函数是旧金山的一个大神Lucas Shen写的\n",
    "      # placeholder for graph input\n",
    "    X = tf.placeholder(tf.float32, shape=X_data.shape)\n",
    "    y = tf.placeholder(tf.float32, shape=y_data.shape)\n",
    "\n",
    "    # construct the graph\n",
    "    with tf.variable_scope('linear-regression'):\n",
    "        W = tf.get_variable(\"weights\",\n",
    "                            (X_data.shape[1], 1),\n",
    "                            initializer=tf.constant_initializer())  # n*1\n",
    "\n",
    "        y_pred = tf.matmul(X, W)  # m*n @ n*1 -> m*1\n",
    "\n",
    "        loss = 1 / (2 * len(X_data)) * tf.matmul((y_pred - y), (y_pred - y), transpose_a=True)  # (m*1).T @ m*1 = 1*1\n",
    "\n",
    "    opt = optimizer(learning_rate=alpha)\n",
    "    opt_operation = opt.minimize(loss)\n",
    "\n",
    "    # run the session\n",
    "    with tf.Session() as sess:\n",
    "        sess.run(tf.global_variables_initializer())\n",
    "        loss_data = []\n",
    "\n",
    "        for i in range(epoch):\n",
    "            _, loss_val, W_val = sess.run([opt_operation, loss, W], feed_dict={X: X_data, y: y_data})\n",
    "            loss_data.append(loss_val[0, 0])  # because every loss_val is 1*1 ndarray\n",
    "\n",
    "            if len(loss_data) > 1 and np.abs(loss_data[-1] - loss_data[-2]) < 10 ** -9:  # early break when it's converged\n",
    "                # print('Converged at epoch {}'.format(i))\n",
    "                break\n",
    "\n",
    "    # clear the graph\n",
    "    tf.reset_default_graph()\n",
    "    return {'loss': loss_data, 'parameters': W_val}  # just want to return in row vector format"
   ]
  },
  {
   "cell_type": "code",
   "execution_count": 12,
   "metadata": {},
   "outputs": [
    {
     "data": {
      "text/html": [
       "<div>\n",
       "<style scoped>\n",
       "    .dataframe tbody tr th:only-of-type {\n",
       "        vertical-align: middle;\n",
       "    }\n",
       "\n",
       "    .dataframe tbody tr th {\n",
       "        vertical-align: top;\n",
       "    }\n",
       "\n",
       "    .dataframe thead th {\n",
       "        text-align: right;\n",
       "    }\n",
       "</style>\n",
       "<table border=\"1\" class=\"dataframe\">\n",
       "  <thead>\n",
       "    <tr style=\"text-align: right;\">\n",
       "      <th></th>\n",
       "      <th>population</th>\n",
       "      <th>profit</th>\n",
       "    </tr>\n",
       "  </thead>\n",
       "  <tbody>\n",
       "    <tr>\n",
       "      <th>0</th>\n",
       "      <td>6.1101</td>\n",
       "      <td>17.5920</td>\n",
       "    </tr>\n",
       "    <tr>\n",
       "      <th>1</th>\n",
       "      <td>5.5277</td>\n",
       "      <td>9.1302</td>\n",
       "    </tr>\n",
       "    <tr>\n",
       "      <th>2</th>\n",
       "      <td>8.5186</td>\n",
       "      <td>13.6620</td>\n",
       "    </tr>\n",
       "    <tr>\n",
       "      <th>3</th>\n",
       "      <td>7.0032</td>\n",
       "      <td>11.8540</td>\n",
       "    </tr>\n",
       "    <tr>\n",
       "      <th>4</th>\n",
       "      <td>5.8598</td>\n",
       "      <td>6.8233</td>\n",
       "    </tr>\n",
       "  </tbody>\n",
       "</table>\n",
       "</div>"
      ],
      "text/plain": [
       "   population   profit\n",
       "0      6.1101  17.5920\n",
       "1      5.5277   9.1302\n",
       "2      8.5186  13.6620\n",
       "3      7.0032  11.8540\n",
       "4      5.8598   6.8233"
      ]
     },
     "execution_count": 12,
     "metadata": {},
     "output_type": "execute_result"
    }
   ],
   "source": [
    "data = pd.read_csv('ex1data1.txt', names=['population', 'profit'])#读取数据，并赋予列名\n",
    "\n",
    "data.head()#看下数据前5行"
   ]
  },
  {
   "cell_type": "markdown",
   "metadata": {},
   "source": [
    "# 计算代价函数\n",
    "$$J\\left( \\theta  \\right)=\\frac{1}{2m}\\sum\\limits_{i=1}^{m}{{{\\left( {{h}_{\\theta }}\\left( {{x}^{(i)}} \\right)-{{y}^{(i)}} \\right)}^{2}}}$$\n",
    "其中：\\\\[{{h}_{\\theta }}\\left( x \\right)={{\\theta }^{T}}X={{\\theta }_{0}}{{x}_{0}}+{{\\theta }_{1}}{{x}_{1}}+{{\\theta }_{2}}{{x}_{2}}+...+{{\\theta }_{n}}{{x}_{n}}\\\\] "
   ]
  },
  {
   "cell_type": "code",
   "execution_count": 13,
   "metadata": {},
   "outputs": [
    {
     "name": "stdout",
     "output_type": "stream",
     "text": [
      "(97, 2) <class 'numpy.ndarray'>\n",
      "(97,) <class 'numpy.ndarray'>\n"
     ]
    },
    {
     "name": "stderr",
     "output_type": "stream",
     "text": [
      "/home/leon/anaconda3/envs/tf_gpu/lib/python3.7/site-packages/ipykernel_launcher.py:8: FutureWarning: Method .as_matrix will be removed in a future version. Use .values instead.\n",
      "  \n"
     ]
    }
   ],
   "source": [
    "X = get_X(data)\n",
    "print(X.shape, type(X))\n",
    "\n",
    "y = get_y(data)\n",
    "print(y.shape, type(y))\n",
    "#看下数据维度"
   ]
  },
  {
   "cell_type": "code",
   "execution_count": 14,
   "metadata": {},
   "outputs": [],
   "source": [
    "theta = np.zeros(X.shape[1])#X.shape[1]=2,代表特征数n"
   ]
  },
  {
   "cell_type": "code",
   "execution_count": 15,
   "metadata": {},
   "outputs": [],
   "source": [
    "def lr_cost(theta, X, y):\n",
    "#     \"\"\"\n",
    "#     X: R(m*n), m 样本数, n 特征数\n",
    "#     y: R(m)\n",
    "#     theta : R(n), 线性回归的参数\n",
    "#     \"\"\"\n",
    "    m = X.shape[0]#m为样本数\n",
    "\n",
    "    inner = X @ theta - y  # R(m*1)，X @ theta等价于X.dot(theta)\n",
    "\n",
    "    # 1*m @ m*1 = 1*1 in matrix multiplication\n",
    "    # but you know numpy didn't do transpose in 1d array, so here is just a\n",
    "    # vector inner product to itselves\n",
    "    square_sum = inner.T @ inner\n",
    "    cost = square_sum / (2 * m)\n",
    "\n",
    "    return cost"
   ]
  },
  {
   "cell_type": "code",
   "execution_count": 16,
   "metadata": {},
   "outputs": [
    {
     "data": {
      "text/plain": [
       "32.07273387745567"
      ]
     },
     "execution_count": 16,
     "metadata": {},
     "output_type": "execute_result"
    }
   ],
   "source": [
    "lr_cost(theta, X, y)#返回theta的值"
   ]
  },
  {
   "cell_type": "markdown",
   "metadata": {},
   "source": [
    "# batch gradient decent（批量梯度下降）\n",
    "$${{\\theta }_{j}}:={{\\theta }_{j}}-\\alpha \\frac{\\partial }{\\partial {{\\theta }_{j}}}J\\left( \\theta  \\right)$$"
   ]
  },
  {
   "cell_type": "code",
   "execution_count": 17,
   "metadata": {},
   "outputs": [],
   "source": [
    "def gradient(theta, X, y):\n",
    "    m = X.shape[0]\n",
    "\n",
    "    inner = X.T @ (X @ theta - y)  # (m,n).T @ (m, 1) -> (n, 1)，X @ theta等价于X.dot(theta)\n",
    "\n",
    "    return inner / m"
   ]
  },
  {
   "cell_type": "code",
   "execution_count": 18,
   "metadata": {},
   "outputs": [],
   "source": [
    "def batch_gradient_decent(theta, X, y, epoch, alpha=0.01):\n",
    "#   拟合线性回归，返回参数和代价\n",
    "#     epoch: 批处理的轮数\n",
    "#     \"\"\"\n",
    "    cost_data = [lr_cost(theta, X, y)]\n",
    "    _theta = theta.copy()  # 拷贝一份，不和原来的theta混淆\n",
    "\n",
    "    for _ in range(epoch):\n",
    "        _theta = _theta - alpha * gradient(_theta, X, y)\n",
    "        cost_data.append(lr_cost(_theta, X, y))\n",
    "\n",
    "    return _theta, cost_data\n",
    "#批量梯度下降函数"
   ]
  },
  {
   "cell_type": "code",
   "execution_count": 19,
   "metadata": {},
   "outputs": [],
   "source": [
    "epoch = 500\n",
    "final_theta, cost_data = batch_gradient_decent(theta, X, y, epoch)"
   ]
  },
  {
   "cell_type": "code",
   "execution_count": 20,
   "metadata": {},
   "outputs": [
    {
     "data": {
      "text/plain": [
       "array([-2.28286727,  1.03099898])"
      ]
     },
     "execution_count": 20,
     "metadata": {},
     "output_type": "execute_result"
    }
   ],
   "source": [
    "final_theta\n",
    "#最终的theta"
   ]
  },
  {
   "cell_type": "code",
   "execution_count": 21,
   "metadata": {},
   "outputs": [
    {
     "data": {
      "text/plain": [
       "[32.07273387745567,\n",
       " 6.737190464870012,\n",
       " 5.931593568604956,\n",
       " 5.901154707081388,\n",
       " 5.895228586444221,\n",
       " 5.89009494311733,\n",
       " 5.885004158443644,\n",
       " 5.879932480491418,\n",
       " 5.874879094762573,\n",
       " 5.869843911806388,\n",
       " 5.8648268653129305,\n",
       " 5.8598278899321805,\n",
       " 5.85484692057229,\n",
       " 5.849883892376588,\n",
       " 5.844938740722034,\n",
       " 5.8400114012183595,\n",
       " 5.8351018097072265,\n",
       " 5.830209902261388,\n",
       " 5.825335615183862,\n",
       " 5.820478885007098,\n",
       " 5.815639648492154,\n",
       " 5.810817842627869,\n",
       " 5.806013404630045,\n",
       " 5.801226271940628,\n",
       " 5.796456382226899,\n",
       " 5.791703673380653,\n",
       " 5.7869680835173956,\n",
       " 5.782249550975539,\n",
       " 5.777548014315596,\n",
       " 5.772863412319381,\n",
       " 5.768195683989214,\n",
       " 5.76354476854712,\n",
       " 5.758910605434049,\n",
       " 5.7542931343090755,\n",
       " 5.749692295048627,\n",
       " 5.745108027745684,\n",
       " 5.740540272709012,\n",
       " 5.735988970462381,\n",
       " 5.731454061743792,\n",
       " 5.726935487504702,\n",
       " 5.722433188909257,\n",
       " 5.717947107333528,\n",
       " 5.713477184364749,\n",
       " 5.709023361800549,\n",
       " 5.704585581648199,\n",
       " 5.700163786123856,\n",
       " 5.6957579176518145,\n",
       " 5.691367918863751,\n",
       " 5.68699373259798,\n",
       " 5.682635301898707,\n",
       " 5.678292570015292,\n",
       " 5.673965480401506,\n",
       " 5.669653976714797,\n",
       " 5.6653580028155535,\n",
       " 5.661077502766379,\n",
       " 5.656812420831358,\n",
       " 5.652562701475333,\n",
       " 5.648328289363181,\n",
       " 5.6441091293590935,\n",
       " 5.639905166525854,\n",
       " 5.635716346124137,\n",
       " 5.631542613611772,\n",
       " 5.627383914643053,\n",
       " 5.623240195068027,\n",
       " 5.619111400931778,\n",
       " 5.614997478473741,\n",
       " 5.610898374126984,\n",
       " 5.606814034517532,\n",
       " 5.602744406463648,\n",
       " 5.598689436975159,\n",
       " 5.594649073252761,\n",
       " 5.5906232626873225,\n",
       " 5.586611952859217,\n",
       " 5.5826150915376225,\n",
       " 5.578632626679854,\n",
       " 5.574664506430677,\n",
       " 5.570710679121643,\n",
       " 5.566771093270403,\n",
       " 5.56284569758005,\n",
       " 5.558934440938442,\n",
       " 5.555037272417544,\n",
       " 5.551154141272754,\n",
       " 5.547284996942256,\n",
       " 5.5434297890463515,\n",
       " 5.539588467386809,\n",
       " 5.535760981946204,\n",
       " 5.531947282887274,\n",
       " 5.5281473205522715,\n",
       " 5.524361045462306,\n",
       " 5.520588408316713,\n",
       " 5.5168293599924025,\n",
       " 5.513083851543225,\n",
       " 5.5093518341993315,\n",
       " 5.50563325936654,\n",
       " 5.501928078625699,\n",
       " 5.498236243732065,\n",
       " 5.494557706614665,\n",
       " 5.490892419375678,\n",
       " 5.487240334289805,\n",
       " 5.483601403803652,\n",
       " 5.479975580535112,\n",
       " 5.476362817272741,\n",
       " 5.472763066975153,\n",
       " 5.469176282770398,\n",
       " 5.465602417955358,\n",
       " 5.462041425995139,\n",
       " 5.4584932605224585,\n",
       " 5.454957875337048,\n",
       " 5.451435224405053,\n",
       " 5.447925261858424,\n",
       " 5.444427941994333,\n",
       " 5.440943219274565,\n",
       " 5.437471048324933,\n",
       " 5.434011383934687,\n",
       " 5.43056418105592,\n",
       " 5.427129394802987,\n",
       " 5.423706980451918,\n",
       " 5.420296893439838,\n",
       " 5.4168990893643825,\n",
       " 5.413513523983123,\n",
       " 5.410140153212988,\n",
       " 5.4067789331296945,\n",
       " 5.403429819967167,\n",
       " 5.400092770116976,\n",
       " 5.396767740127768,\n",
       " 5.393454686704695,\n",
       " 5.390153566708862,\n",
       " 5.386864337156747,\n",
       " 5.383586955219661,\n",
       " 5.380321378223178,\n",
       " 5.377067563646583,\n",
       " 5.373825469122317,\n",
       " 5.370595052435429,\n",
       " 5.367376271523024,\n",
       " 5.364169084473712,\n",
       " 5.360973449527068,\n",
       " 5.357789325073085,\n",
       " 5.354616669651632,\n",
       " 5.3514554419519165,\n",
       " 5.348305600811943,\n",
       " 5.345167105217982,\n",
       " 5.34203991430403,\n",
       " 5.338923987351282,\n",
       " 5.335819283787601,\n",
       " 5.332725763186988,\n",
       " 5.329643385269053,\n",
       " 5.326572109898499,\n",
       " 5.323511897084587,\n",
       " 5.32046270698063,\n",
       " 5.317424499883461,\n",
       " 5.3143972362329235,\n",
       " 5.311380876611356,\n",
       " 5.3083753817430726,\n",
       " 5.305380712493861,\n",
       " 5.302396829870465,\n",
       " 5.2994236950200815,\n",
       " 5.296461269229852,\n",
       " 5.293509513926361,\n",
       " 5.290568390675129,\n",
       " 5.287637861180119,\n",
       " 5.284717887283231,\n",
       " 5.281808430963811,\n",
       " 5.278909454338152,\n",
       " 5.276020919659001,\n",
       " 5.27314278931507,\n",
       " 5.270275025830544,\n",
       " 5.267417591864592,\n",
       " 5.264570450210885,\n",
       " 5.26173356379711,\n",
       " 5.2589068956844836,\n",
       " 5.256090409067274,\n",
       " 5.253284067272323,\n",
       " 5.250487833758565,\n",
       " 5.2477016721165555,\n",
       " 5.244925546067995,\n",
       " 5.242159419465253,\n",
       " 5.239403256290903,\n",
       " 5.236657020657252,\n",
       " 5.2339206768058695,\n",
       " 5.2311941891071285,\n",
       " 5.228477522059737,\n",
       " 5.22577064029027,\n",
       " 5.223073508552728,\n",
       " 5.220386091728055,\n",
       " 5.217708354823696,\n",
       " 5.215040262973137,\n",
       " 5.212381781435449,\n",
       " 5.2097328755948435,\n",
       " 5.207093510960209,\n",
       " 5.204463653164672,\n",
       " 5.20184326796515,\n",
       " 5.199232321241895,\n",
       " 5.196630778998063,\n",
       " 5.19403860735926,\n",
       " 5.191455772573107,\n",
       " 5.188882241008803,\n",
       " 5.186317979156676,\n",
       " 5.183762953627759,\n",
       " 5.181217131153351,\n",
       " 5.1786804785845755,\n",
       " 5.176152962891967,\n",
       " 5.173634551165022,\n",
       " 5.171125210611782,\n",
       " 5.168624908558404,\n",
       " 5.166133612448731,\n",
       " 5.163651289843875,\n",
       " 5.161177908421791,\n",
       " 5.158713435976849,\n",
       " 5.156257840419434,\n",
       " 5.153811089775506,\n",
       " 5.151373152186197,\n",
       " 5.148943995907395,\n",
       " 5.146523589309323,\n",
       " 5.14411190087614,\n",
       " 5.141708899205514,\n",
       " 5.139314553008234,\n",
       " 5.136928831107778,\n",
       " 5.134551702439932,\n",
       " 5.132183136052364,\n",
       " 5.129823101104237,\n",
       " 5.127471566865799,\n",
       " 5.12512850271798,\n",
       " 5.122793878152008,\n",
       " 5.120467662768992,\n",
       " 5.118149826279542,\n",
       " 5.115840338503367,\n",
       " 5.1135391693688845,\n",
       " 5.111246288912825,\n",
       " 5.108961667279847,\n",
       " 5.1066852747221505,\n",
       " 5.104417081599077,\n",
       " 5.102157058376736,\n",
       " 5.09990517562762,\n",
       " 5.097661404030211,\n",
       " 5.09542571436861,\n",
       " 5.09319807753215,\n",
       " 5.090978464515021,\n",
       " 5.088766846415887,\n",
       " 5.086563194437517,\n",
       " 5.0843674798864,\n",
       " 5.082179674172386,\n",
       " 5.079999748808297,\n",
       " 5.0778276754095675,\n",
       " 5.075663425693872,\n",
       " 5.0735069714807555,\n",
       " 5.071358284691267,\n",
       " 5.069217337347596,\n",
       " 5.067084101572705,\n",
       " 5.064958549589969,\n",
       " 5.06284065372281,\n",
       " 5.060730386394342,\n",
       " 5.058627720127011,\n",
       " 5.056532627542231,\n",
       " 5.054445081360036,\n",
       " 5.052365054398718,\n",
       " 5.050292519574479,\n",
       " 5.0482274499010735,\n",
       " 5.046169818489457,\n",
       " 5.044119598547442,\n",
       " 5.042076763379342,\n",
       " 5.040041286385626,\n",
       " 5.038013141062576,\n",
       " 5.035992301001938,\n",
       " 5.033978739890578,\n",
       " 5.03197243151014,\n",
       " 5.029973349736707,\n",
       " 5.027981468540456,\n",
       " 5.025996761985323,\n",
       " 5.024019204228667,\n",
       " 5.022048769520927,\n",
       " 5.020085432205293,\n",
       " 5.018129166717368,\n",
       " 5.016179947584835,\n",
       " 5.01423774942713,\n",
       " 5.012302546955107,\n",
       " 5.010374314970709,\n",
       " 5.008453028366643,\n",
       " 5.006538662126048,\n",
       " 5.004631191322175,\n",
       " 5.00273059111806,\n",
       " 5.000836836766199,\n",
       " 4.998949903608226,\n",
       " 4.997069767074595,\n",
       " 4.995196402684257,\n",
       " 4.993329786044343,\n",
       " 4.991469892849845,\n",
       " 4.9896166988833,\n",
       " 4.987770180014478,\n",
       " 4.98593031220006,\n",
       " 4.984097071483332,\n",
       " 4.982270433993872,\n",
       " 4.9804503759472345,\n",
       " 4.978636873644648,\n",
       " 4.976829903472699,\n",
       " 4.975029441903032,\n",
       " 4.973235465492034,\n",
       " 4.971447950880541,\n",
       " 4.969666874793522,\n",
       " 4.967892214039784,\n",
       " 4.966123945511669,\n",
       " 4.964362046184745,\n",
       " 4.962606493117519,\n",
       " 4.960857263451132,\n",
       " 4.959114334409054,\n",
       " 4.957377683296803,\n",
       " 4.955647287501639,\n",
       " 4.953923124492271,\n",
       " 4.9522051718185605,\n",
       " 4.95049340711124,\n",
       " 4.948787808081611,\n",
       " 4.947088352521258,\n",
       " 4.94539501830176,\n",
       " 4.943707783374399,\n",
       " 4.942026625769878,\n",
       " 4.9403515235980295,\n",
       " 4.938682455047537,\n",
       " 4.937019398385641,\n",
       " 4.935362331957869,\n",
       " 4.933711234187741,\n",
       " 4.932066083576499,\n",
       " 4.930426858702819,\n",
       " 4.928793538222535,\n",
       " 4.927166100868363,\n",
       " 4.925544525449624,\n",
       " 4.923928790851963,\n",
       " 4.92231887603708,\n",
       " 4.920714760042453,\n",
       " 4.919116421981067,\n",
       " 4.91752384104114,\n",
       " 4.915936996485852,\n",
       " 4.914355867653076,\n",
       " 4.9127804339551115,\n",
       " 4.91121067487841,\n",
       " 4.9096465699833125,\n",
       " 4.908088098903785,\n",
       " 4.906535241347147,\n",
       " 4.904987977093815,\n",
       " 4.903446285997032,\n",
       " 4.901910147982609,\n",
       " 4.9003795430486665,\n",
       " 4.898854451265366,\n",
       " 4.897334852774656,\n",
       " 4.895820727790016,\n",
       " 4.894312056596193,\n",
       " 4.892808819548945,\n",
       " 4.89131099707479,\n",
       " 4.889818569670749,\n",
       " 4.888331517904091,\n",
       " 4.88684982241208,\n",
       " 4.8853734639017246,\n",
       " 4.883902423149523,\n",
       " 4.882436681001221,\n",
       " 4.880976218371549,\n",
       " 4.879521016243987,\n",
       " 4.8780710556705085,\n",
       " 4.876626317771342,\n",
       " 4.875186783734713,\n",
       " 4.87375243481661,\n",
       " 4.872323252340534,\n",
       " 4.870899217697262,\n",
       " 4.869480312344594,\n",
       " 4.868066517807122,\n",
       " 4.866657815675986,\n",
       " 4.865254187608632,\n",
       " 4.863855615328575,\n",
       " 4.862462080625158,\n",
       " 4.861073565353324,\n",
       " 4.859690051433371,\n",
       " 4.858311520850715,\n",
       " 4.856937955655664,\n",
       " 4.8555693379631775,\n",
       " 4.85420564995264,\n",
       " 4.852846873867618,\n",
       " 4.85149299201564,\n",
       " 4.850143986767962,\n",
       " 4.8487998405593355,\n",
       " 4.847460535887784,\n",
       " 4.846126055314369,\n",
       " 4.844796381462969,\n",
       " 4.843471497020046,\n",
       " 4.842151384734429,\n",
       " 4.840836027417082,\n",
       " 4.839525407940884,\n",
       " 4.838219509240405,\n",
       " 4.836918314311682,\n",
       " 4.835621806212003,\n",
       " 4.834329968059678,\n",
       " 4.833042783033827,\n",
       " 4.831760234374157,\n",
       " 4.830482305380744,\n",
       " 4.829208979413817,\n",
       " 4.8279402398935405,\n",
       " 4.826676070299799,\n",
       " 4.825416454171979,\n",
       " 4.824161375108761,\n",
       " 4.822910816767899,\n",
       " 4.821664762866011,\n",
       " 4.820423197178371,\n",
       " 4.819186103538686,\n",
       " 4.817953465838902,\n",
       " 4.816725268028978,\n",
       " 4.815501494116686,\n",
       " 4.814282128167403,\n",
       " 4.813067154303901,\n",
       " 4.811856556706141,\n",
       " 4.810650319611066,\n",
       " 4.809448427312396,\n",
       " 4.808250864160425,\n",
       " 4.807057614561818,\n",
       " 4.805868662979404,\n",
       " 4.8046839939319765,\n",
       " 4.80350359199409,\n",
       " 4.802327441795867,\n",
       " 4.801155528022781,\n",
       " 4.799987835415476,\n",
       " 4.798824348769555,\n",
       " 4.797665052935391,\n",
       " 4.796509932817918,\n",
       " 4.795358973376449,\n",
       " 4.794212159624467,\n",
       " 4.793069476629437,\n",
       " 4.791930909512612,\n",
       " 4.790796443448837,\n",
       " 4.7896660636663535,\n",
       " 4.788539755446615,\n",
       " 4.787417504124085,\n",
       " 4.786299295086054,\n",
       " 4.785185113772448,\n",
       " 4.784074945675635,\n",
       " 4.7829687763402395,\n",
       " 4.781866591362954,\n",
       " 4.780768376392351,\n",
       " 4.779674117128696,\n",
       " 4.7785837993237585,\n",
       " 4.777497408780634,\n",
       " 4.776414931353551,\n",
       " 4.775336352947692,\n",
       " 4.774261659519007,\n",
       " 4.773190837074032,\n",
       " 4.772123871669708,\n",
       " 4.771060749413196,\n",
       " 4.770001456461701,\n",
       " 4.768945979022287,\n",
       " 4.767894303351698,\n",
       " 4.766846415756183,\n",
       " 4.765802302591315,\n",
       " 4.764761950261812,\n",
       " 4.763725345221363,\n",
       " 4.762692473972447,\n",
       " 4.761663323066164,\n",
       " 4.760637879102054,\n",
       " 4.7596161287279255,\n",
       " 4.75859805863968,\n",
       " 4.75758365558114,\n",
       " 4.7565729063438775,\n",
       " 4.755565797767037,\n",
       " 4.7545623167371724,\n",
       " 4.753562450188068,\n",
       " 4.752566185100569,\n",
       " 4.751573508502425,\n",
       " 4.7505844074681,\n",
       " 4.7495988691186195,\n",
       " 4.748616880621399,\n",
       " 4.7476384291900775,\n",
       " 4.7466635020843455,\n",
       " 4.745692086609786,\n",
       " 4.744724170117706,\n",
       " 4.743759740004974,\n",
       " 4.742798783713851,\n",
       " 4.741841288731832,\n",
       " 4.740887242591483,\n",
       " 4.739936632870274,\n",
       " 4.738989447190423,\n",
       " 4.7380456732187275,\n",
       " 4.737105298666415,\n",
       " 4.7361683112889725,\n",
       " 4.73523469888599,\n",
       " 4.734304449301005,\n",
       " 4.733377550421341,\n",
       " 4.732453990177952,\n",
       " 4.731533756545262,\n",
       " 4.73061683754101,\n",
       " 4.729703221226098,\n",
       " 4.728792895704427,\n",
       " 4.727885849122752,\n",
       " 4.726982069670519,\n",
       " 4.726081545579716,\n",
       " 4.725184265124722,\n",
       " 4.724290216622143,\n",
       " 4.723399388430677,\n",
       " 4.722511768950947,\n",
       " 4.721627346625359,\n",
       " 4.72074610993795,\n",
       " 4.7198680474142325,\n",
       " 4.718993147621053,\n",
       " 4.7181213991664395,\n",
       " 4.717252790699451,\n",
       " 4.716387310910036,\n",
       " 4.715524948528875,\n",
       " 4.7146656923272445,\n",
       " 4.7138095311168655]"
      ]
     },
     "execution_count": 21,
     "metadata": {},
     "output_type": "execute_result"
    }
   ],
   "source": [
    "cost_data\n",
    "# 看下代价数据"
   ]
  },
  {
   "cell_type": "code",
   "execution_count": 22,
   "metadata": {},
   "outputs": [
    {
     "data": {
      "text/plain": [
       "4.7138095311168655"
      ]
     },
     "execution_count": 22,
     "metadata": {},
     "output_type": "execute_result"
    }
   ],
   "source": [
    "# 计算最终的代价\n",
    "lr_cost(final_theta, X, y)"
   ]
  },
  {
   "cell_type": "markdown",
   "metadata": {},
   "source": [
    "# visualize cost data（代价数据可视化）"
   ]
  },
  {
   "cell_type": "code",
   "execution_count": 23,
   "metadata": {},
   "outputs": [
    {
     "name": "stderr",
     "output_type": "stream",
     "text": [
      "/home/leon/anaconda3/envs/tf_gpu/lib/python3.7/site-packages/seaborn/timeseries.py:183: UserWarning: The `tsplot` function is deprecated and will be removed in a future release. Please update your code to use the new `lineplot` function.\n",
      "  warnings.warn(msg, UserWarning)\n"
     ]
    },
    {
     "data": {
      "image/png": "[encoded data removed]",
      "text/plain": [
       "<Figure size 432x288 with 1 Axes>"
      ]
     },
     "metadata": {
      "needs_background": "light"
     },
     "output_type": "display_data"
    }
   ],
   "source": [
    "ax = sns.tsplot(cost_data, time=np.arange(epoch+1))\n",
    "ax.set_xlabel('epoch')\n",
    "ax.set_ylabel('cost')\n",
    "plt.show()\n",
    "#可以看到从第二轮代价数据变换很大，接下来平稳了"
   ]
  },
  {
   "cell_type": "code",
   "execution_count": 24,
   "metadata": {},
   "outputs": [
    {
     "data": {
      "image/png": "[encoded data removed]",
      "text/plain": [
       "<Figure size 432x288 with 1 Axes>"
      ]
     },
     "metadata": {
      "needs_background": "light"
     },
     "output_type": "display_data"
    }
   ],
   "source": [
    "b = final_theta[0] # intercept，Y轴上的截距\n",
    "m = final_theta[1] # slope，斜率\n",
    "\n",
    "plt.scatter(data.population, data.profit, label=\"Training data\")\n",
    "plt.plot(data.population, data.population*m + b, label=\"Prediction\")\n",
    "plt.legend(loc=2)\n",
    "plt.show()"
   ]
  },
  {
   "cell_type": "markdown",
   "metadata": {},
   "source": [
    "# 3- 选修章节"
   ]
  },
  {
   "cell_type": "code",
   "execution_count": 25,
   "metadata": {},
   "outputs": [
    {
     "data": {
      "text/html": [
       "<div>\n",
       "<style scoped>\n",
       "    .dataframe tbody tr th:only-of-type {\n",
       "        vertical-align: middle;\n",
       "    }\n",
       "\n",
       "    .dataframe tbody tr th {\n",
       "        vertical-align: top;\n",
       "    }\n",
       "\n",
       "    .dataframe thead th {\n",
       "        text-align: right;\n",
       "    }\n",
       "</style>\n",
       "<table border=\"1\" class=\"dataframe\">\n",
       "  <thead>\n",
       "    <tr style=\"text-align: right;\">\n",
       "      <th></th>\n",
       "      <th>square</th>\n",
       "      <th>bedrooms</th>\n",
       "      <th>price</th>\n",
       "    </tr>\n",
       "  </thead>\n",
       "  <tbody>\n",
       "    <tr>\n",
       "      <th>0</th>\n",
       "      <td>2104</td>\n",
       "      <td>3</td>\n",
       "      <td>399900</td>\n",
       "    </tr>\n",
       "    <tr>\n",
       "      <th>1</th>\n",
       "      <td>1600</td>\n",
       "      <td>3</td>\n",
       "      <td>329900</td>\n",
       "    </tr>\n",
       "    <tr>\n",
       "      <th>2</th>\n",
       "      <td>2400</td>\n",
       "      <td>3</td>\n",
       "      <td>369000</td>\n",
       "    </tr>\n",
       "    <tr>\n",
       "      <th>3</th>\n",
       "      <td>1416</td>\n",
       "      <td>2</td>\n",
       "      <td>232000</td>\n",
       "    </tr>\n",
       "    <tr>\n",
       "      <th>4</th>\n",
       "      <td>3000</td>\n",
       "      <td>4</td>\n",
       "      <td>539900</td>\n",
       "    </tr>\n",
       "  </tbody>\n",
       "</table>\n",
       "</div>"
      ],
      "text/plain": [
       "   square  bedrooms   price\n",
       "0    2104         3  399900\n",
       "1    1600         3  329900\n",
       "2    2400         3  369000\n",
       "3    1416         2  232000\n",
       "4    3000         4  539900"
      ]
     },
     "execution_count": 25,
     "metadata": {},
     "output_type": "execute_result"
    }
   ],
   "source": [
    "raw_data = pd.read_csv('ex1data2.txt', names=['square', 'bedrooms', 'price'])\n",
    "raw_data.head()"
   ]
  },
  {
   "cell_type": "markdown",
   "metadata": {
    "collapsed": true
   },
   "source": [
    "# 标准化数据\n",
    "最简单的方法是令：\n",
    "\n",
    " \n",
    "\n",
    "其中  是平均值，sn 是标准差。\n"
   ]
  },
  {
   "cell_type": "code",
   "execution_count": 26,
   "metadata": {},
   "outputs": [],
   "source": [
    "def normalize_feature(df):\n",
    "#     \"\"\"Applies function along input axis(default 0) of DataFrame.\"\"\"\n",
    "    return df.apply(lambda column: (column - column.mean()) / column.std())"
   ]
  },
  {
   "cell_type": "code",
   "execution_count": 27,
   "metadata": {},
   "outputs": [
    {
     "data": {
      "text/html": [
       "<div>\n",
       "<style scoped>\n",
       "    .dataframe tbody tr th:only-of-type {\n",
       "        vertical-align: middle;\n",
       "    }\n",
       "\n",
       "    .dataframe tbody tr th {\n",
       "        vertical-align: top;\n",
       "    }\n",
       "\n",
       "    .dataframe thead th {\n",
       "        text-align: right;\n",
       "    }\n",
       "</style>\n",
       "<table border=\"1\" class=\"dataframe\">\n",
       "  <thead>\n",
       "    <tr style=\"text-align: right;\">\n",
       "      <th></th>\n",
       "      <th>square</th>\n",
       "      <th>bedrooms</th>\n",
       "      <th>price</th>\n",
       "    </tr>\n",
       "  </thead>\n",
       "  <tbody>\n",
       "    <tr>\n",
       "      <th>0</th>\n",
       "      <td>0.130010</td>\n",
       "      <td>-0.223675</td>\n",
       "      <td>0.475747</td>\n",
       "    </tr>\n",
       "    <tr>\n",
       "      <th>1</th>\n",
       "      <td>-0.504190</td>\n",
       "      <td>-0.223675</td>\n",
       "      <td>-0.084074</td>\n",
       "    </tr>\n",
       "    <tr>\n",
       "      <th>2</th>\n",
       "      <td>0.502476</td>\n",
       "      <td>-0.223675</td>\n",
       "      <td>0.228626</td>\n",
       "    </tr>\n",
       "    <tr>\n",
       "      <th>3</th>\n",
       "      <td>-0.735723</td>\n",
       "      <td>-1.537767</td>\n",
       "      <td>-0.867025</td>\n",
       "    </tr>\n",
       "    <tr>\n",
       "      <th>4</th>\n",
       "      <td>1.257476</td>\n",
       "      <td>1.090417</td>\n",
       "      <td>1.595389</td>\n",
       "    </tr>\n",
       "  </tbody>\n",
       "</table>\n",
       "</div>"
      ],
      "text/plain": [
       "     square  bedrooms     price\n",
       "0  0.130010 -0.223675  0.475747\n",
       "1 -0.504190 -0.223675 -0.084074\n",
       "2  0.502476 -0.223675  0.228626\n",
       "3 -0.735723 -1.537767 -0.867025\n",
       "4  1.257476  1.090417  1.595389"
      ]
     },
     "execution_count": 27,
     "metadata": {},
     "output_type": "execute_result"
    }
   ],
   "source": [
    "data = normalize_feature(raw_data)\n",
    "data.head()"
   ]
  },
  {
   "cell_type": "markdown",
   "metadata": {},
   "source": [
    "# 2. multi-var batch gradient decent（多变量批量梯度下降）"
   ]
  },
  {
   "cell_type": "code",
   "execution_count": 28,
   "metadata": {},
   "outputs": [
    {
     "name": "stdout",
     "output_type": "stream",
     "text": [
      "(47, 3) <class 'numpy.ndarray'>\n",
      "(47,) <class 'numpy.ndarray'>\n"
     ]
    },
    {
     "name": "stderr",
     "output_type": "stream",
     "text": [
      "/home/leon/anaconda3/envs/tf_gpu/lib/python3.7/site-packages/ipykernel_launcher.py:8: FutureWarning: Method .as_matrix will be removed in a future version. Use .values instead.\n",
      "  \n"
     ]
    }
   ],
   "source": [
    "X = get_X(data)\n",
    "print(X.shape, type(X))\n",
    "\n",
    "y = get_y(data)\n",
    "print(y.shape, type(y))#看下数据的维度和类型"
   ]
  },
  {
   "cell_type": "code",
   "execution_count": 29,
   "metadata": {},
   "outputs": [],
   "source": [
    "alpha = 0.01#学习率\n",
    "theta = np.zeros(X.shape[1])#X.shape[1]：特征数n\n",
    "epoch = 5000#轮数"
   ]
  },
  {
   "cell_type": "code",
   "execution_count": 30,
   "metadata": {},
   "outputs": [],
   "source": [
    "final_theta, cost_data = batch_gradient_decent(theta, X, y, epoch, alpha=alpha)"
   ]
  },
  {
   "cell_type": "code",
   "execution_count": 31,
   "metadata": {},
   "outputs": [
    {
     "data": {
      "image/png": "[encoded data removed]",
      "text/plain": [
       "<Figure size 432x288 with 1 Axes>"
      ]
     },
     "metadata": {
      "needs_background": "light"
     },
     "output_type": "display_data"
    }
   ],
   "source": [
    "sns.tsplot(time=np.arange(len(cost_data)), data = cost_data)\n",
    "plt.xlabel('epoch', fontsize=18)\n",
    "plt.ylabel('cost', fontsize=18)\n",
    "plt.show()"
   ]
  },
  {
   "cell_type": "code",
   "execution_count": 32,
   "metadata": {},
   "outputs": [
    {
     "data": {
      "text/plain": [
       "array([-9.50894210e-17,  8.84765988e-01, -5.31788195e-02])"
      ]
     },
     "execution_count": 32,
     "metadata": {},
     "output_type": "execute_result"
    }
   ],
   "source": [
    "final_theta"
   ]
  },
  {
   "cell_type": "markdown",
   "metadata": {},
   "source": [
    "# 3. learning rate（学习率）"
   ]
  },
  {
   "cell_type": "code",
   "execution_count": 33,
   "metadata": {},
   "outputs": [
    {
     "name": "stdout",
     "output_type": "stream",
     "text": [
      "[1.00000000e-05 3.00000000e-05 2.15443469e-04 6.46330407e-04\n",
      " 4.64158883e-03 1.39247665e-02 1.00000000e-01 3.00000000e-01]\n"
     ]
    }
   ],
   "source": [
    "base = np.logspace(-1, -5, num=4)\n",
    "candidate = np.sort(np.concatenate((base, base*3)))\n",
    "print(candidate)"
   ]
  },
  {
   "cell_type": "code",
   "execution_count": 38,
   "metadata": {},
   "outputs": [
    {
     "data": {
      "image/png": "[encoded data removed]",
      "text/plain": [
       "<matplotlib.figure.Figure at 0x7f3b2f4ca2e8>"
      ]
     },
     "metadata": {},
     "output_type": "display_data"
    }
   ],
   "source": [
    "epoch=50\n",
    "\n",
    "fig, ax = plt.subplots(figsize=(16, 9))\n",
    "\n",
    "for alpha in candidate:\n",
    "    _, cost_data = batch_gradient_decent(theta, X, y, epoch, alpha=alpha)\n",
    "    ax.plot(np.arange(epoch+1), cost_data, label=alpha)\n",
    "\n",
    "ax.set_xlabel('epoch', fontsize=18)\n",
    "ax.set_ylabel('cost', fontsize=18)\n",
    "ax.legend(bbox_to_anchor=(1.05, 1), loc=2, borderaxespad=0.)\n",
    "ax.set_title('learning rate', fontsize=18)\n",
    "plt.show()"
   ]
  },
  {
   "cell_type": "markdown",
   "metadata": {},
   "source": [
    "# 4. normal equation（正规方程）\n",
    "正规方程是通过求解下面的方程来找出使得代价函数最小的参数的：$\\frac{\\partial }{\\partial {{\\theta }_{j}}}J\\left( {{\\theta }_{j}} \\right)=0$ 。\n",
    " 假设我们的训练集特征矩阵为 X（包含了${{x}_{0}}=1$）并且我们的训练集结果为向量 y，则利用正规方程解出向量 $\\theta ={{\\left( {{X}^{T}}X \\right)}^{-1}}{{X}^{T}}y$ 。\n",
    "上标T代表矩阵转置，上标-1 代表矩阵的逆。设矩阵$A={{X}^{T}}X$，则：${{\\left( {{X}^{T}}X \\right)}^{-1}}={{A}^{-1}}$\n",
    "\n",
    "梯度下降与正规方程的比较：\n",
    "\n",
    "梯度下降：需要选择学习率α，需要多次迭代，当特征数量n大时也能较好适用，适用于各种类型的模型\t\n",
    "\n",
    "正规方程：不需要选择学习率α，一次计算得出，需要计算${{\\left( {{X}^{T}}X \\right)}^{-1}}$，如果特征数量n较大则运算代价大，因为矩阵逆的计算时间复杂度为O(n3)，通常来说当n小于10000 时还是可以接受的，只适用于线性模型，不适合逻辑回归模型等其他模型\n",
    "\n"
   ]
  },
  {
   "cell_type": "code",
   "execution_count": 39,
   "metadata": {
    "collapsed": true
   },
   "outputs": [],
   "source": [
    "# 正规方程\n",
    "def normalEqn(X, y):\n",
    "    theta = np.linalg.inv(X.T@X)@X.T@y#X.T@X等价于X.T.dot(X)\n",
    "    return theta"
   ]
  },
  {
   "cell_type": "code",
   "execution_count": 40,
   "metadata": {},
   "outputs": [
    {
     "data": {
      "text/plain": [
       "array([-5.20417043e-17,  8.84765988e-01, -5.31788197e-02])"
      ]
     },
     "execution_count": 40,
     "metadata": {},
     "output_type": "execute_result"
    }
   ],
   "source": [
    "final_theta2=normalEqn(X, y)#感觉和批量梯度下降的theta的值有点差距\n",
    "final_theta2"
   ]
  },
  {
   "cell_type": "markdown",
   "metadata": {},
   "source": [
    "# run the tensorflow graph over several optimizer"
   ]
  },
  {
   "cell_type": "code",
   "execution_count": 41,
   "metadata": {},
   "outputs": [
    {
     "name": "stdout",
     "output_type": "stream",
     "text": [
      "(47, 3) <class 'numpy.ndarray'>\n",
      "(47, 1) <class 'numpy.ndarray'>\n"
     ]
    }
   ],
   "source": [
    "X_data = get_X(data)\n",
    "print(X_data.shape, type(X_data))\n",
    "\n",
    "y_data = get_y(data).reshape(len(X_data), 1)  # special treatment for tensorflow input data\n",
    "print(y_data.shape, type(y_data))"
   ]
  },
  {
   "cell_type": "code",
   "execution_count": 42,
   "metadata": {
    "collapsed": true
   },
   "outputs": [],
   "source": [
    "epoch = 2000\n",
    "alpha = 0.01"
   ]
  },
  {
   "cell_type": "code",
   "execution_count": 43,
   "metadata": {},
   "outputs": [
    {
     "name": "stdout",
     "output_type": "stream",
     "text": [
      "WARNING:tensorflow:From /home/leon/x86_install/anaconda3/lib/python3.6/site-packages/tensorflow/python/framework/op_def_library.py:263: colocate_with (from tensorflow.python.framework.ops) is deprecated and will be removed in a future version.\n",
      "Instructions for updating:\n",
      "Colocations handled automatically by placer.\n"
     ]
    }
   ],
   "source": [
    "optimizer_dict={'GD': tf.train.GradientDescentOptimizer,\n",
    "                'Adagrad': tf.train.AdagradOptimizer,\n",
    "                'Adam': tf.train.AdamOptimizer,\n",
    "                'Ftrl': tf.train.FtrlOptimizer,\n",
    "                'RMS': tf.train.RMSPropOptimizer\n",
    "               }\n",
    "results = []\n",
    "for name in optimizer_dict:\n",
    "    res = linear_regression(X_data, y_data, alpha, epoch, optimizer=optimizer_dict[name])\n",
    "    res['name'] = name\n",
    "    results.append(res)"
   ]
  },
  {
   "cell_type": "markdown",
   "metadata": {},
   "source": [
    "# 画图"
   ]
  },
  {
   "cell_type": "code",
   "execution_count": 44,
   "metadata": {},
   "outputs": [
    {
     "data": {
      "image/png": "[encoded data removed]",
      "text/plain": [
       "<matplotlib.figure.Figure at 0x7f3b34fbaeb8>"
      ]
     },
     "metadata": {},
     "output_type": "display_data"
    }
   ],
   "source": [
    "fig, ax = plt.subplots(figsize=(16, 9))\n",
    "\n",
    "for res in results: \n",
    "    loss_data = res['loss']\n",
    "    \n",
    "#     print('for optimizer {}'.format(res['name']))\n",
    "#     print('final parameters\\n', res['parameters'])\n",
    "#     print('final loss={}\\n'.format(loss_data[-1]))\n",
    "    ax.plot(np.arange(len(loss_data)), loss_data, label=res['name'])\n",
    "\n",
    "ax.set_xlabel('epoch', fontsize=18)\n",
    "ax.set_ylabel('cost', fontsize=18)\n",
    "ax.legend(bbox_to_anchor=(1.05, 1), loc=2, borderaxespad=0.)\n",
    "ax.set_title('different optimizer', fontsize=18)\n",
    "plt.show()"
   ]
  },
  {
   "cell_type": "code",
   "execution_count": null,
   "metadata": {
    "collapsed": true
   },
   "outputs": [],
   "source": []
  },
  {
   "cell_type": "code",
   "execution_count": null,
   "metadata": {
    "collapsed": true
   },
   "outputs": [],
   "source": []
  }
 ],
 "metadata": {
  "anaconda-cloud": {},
  "kernelspec": {
   "display_name": "Python [conda env:tf_gpu]",
   "language": "python",
   "name": "conda-env-tf_gpu-py"
  },
  "language_info": {
   "codemirror_mode": {
    "name": "ipython",
    "version": 3
   },
   "file_extension": ".py",
   "mimetype": "text/x-python",
   "name": "python",
   "nbconvert_exporter": "python",
   "pygments_lexer": "ipython3",
   "version": "3.7.3"
  }
 },
 "nbformat": 4,
 "nbformat_minor": 1
}
